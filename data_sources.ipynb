{
 "cells": [
  {
   "cell_type": "markdown",
   "metadata": {},
   "source": [
    "# Evaluating Data Sources"
   ]
  },
  {
   "cell_type": "markdown",
   "metadata": {},
   "source": [
    "## Case 1\n",
    "\n",
    "### Data source\n",
    "**Theoretical Data Source**: Amsterdam availability data scraped from AirBnB on December 24th.\n",
    "\n",
    "**Question**: What are the popular neighborhoods in Amsterdam?\n",
    "\n",
    "### Evaluation\n",
    "AirBnB availability on Christmas Eve may not reflect typical neighborhood popularity in Amsterdam. Quite likely, places in all Amsterdam neighborhoods were fully booked that day regardless of their popularity. Moreover, neighhorhoods where major celebration events took place might be more popular than usual. \n",
    "\n",
    "In short, this source is of dubious quality because data were collected under a special circustance that could influence AirBnB users' normal behaviors. "
   ]
  },
  {
   "cell_type": "markdown",
   "metadata": {},
   "source": [
    "## Case 2\n",
    "\n",
    "### Data source\n",
    "**Theoretical Data Source**: Mental health services use on September 12, 2001 in San Francisco, CA and New York City, NY.\n",
    "\n",
    "**Question**: How do patterns of mental health service use vary between cities?\n",
    "\n",
    "### Evaluation\n",
    "On September 11, 2001, thousands died during a terrorist attack in New York City. While the whole world was shaken, New Yorkers were likely affected more than the most and wanted to seek out mental health service more badly than people in San Francisco next day.\n",
    "\n",
    "As a result, the comparison between these two cities on September 12, 2001 may not reflect their true differences in mental health survice usage in general."
   ]
  },
  {
   "cell_type": "markdown",
   "metadata": {},
   "source": [
    "## Case 3\n",
    "\n",
    "### Data source\n",
    "\n",
    "**Actual Data Source**: [Armenian Pub Survey](https://www.kaggle.com/erikhambardzumyan/pubs).\n",
    "\n",
    "**Question**: What are the most common reasons Armenians visit local pubs?\n",
    "\n",
    "### Evaluation\n",
    "\n",
    "To check potential selection biases, we can examine whether this dataset is a representative sample of the Armenian popluation. "
   ]
  },
  {
   "cell_type": "markdown",
   "metadata": {},
   "source": [
    "First, let's import the data."
   ]
  },
  {
   "cell_type": "code",
   "execution_count": 10,
   "metadata": {},
   "outputs": [],
   "source": [
    "import numpy as np\n",
    "import pandas as pd\n",
    "import matplotlib.pyplot as plt\n",
    "%matplotlib inline"
   ]
  },
  {
   "cell_type": "markdown",
   "metadata": {},
   "source": [
    "Then, we can read the data and take a look at the first five rows."
   ]
  },
  {
   "cell_type": "code",
   "execution_count": 16,
   "metadata": {},
   "outputs": [
    {
     "data": {
      "text/html": [
       "<div>\n",
       "<style scoped>\n",
       "    .dataframe tbody tr th:only-of-type {\n",
       "        vertical-align: middle;\n",
       "    }\n",
       "\n",
       "    .dataframe tbody tr th {\n",
       "        vertical-align: top;\n",
       "    }\n",
       "\n",
       "    .dataframe thead th {\n",
       "        text-align: right;\n",
       "    }\n",
       "</style>\n",
       "<table border=\"1\" class=\"dataframe\">\n",
       "  <thead>\n",
       "    <tr style=\"text-align: right;\">\n",
       "      <th></th>\n",
       "      <th>Timestamp</th>\n",
       "      <th>Age</th>\n",
       "      <th>Gender</th>\n",
       "      <th>Income</th>\n",
       "      <th>Occupation</th>\n",
       "      <th>Fav_Pub</th>\n",
       "      <th>WTS</th>\n",
       "      <th>Freq</th>\n",
       "      <th>Prim_Imp</th>\n",
       "      <th>Sec_Imp</th>\n",
       "      <th>Stratum</th>\n",
       "      <th>Lifestyle</th>\n",
       "      <th>Occasions</th>\n",
       "    </tr>\n",
       "  </thead>\n",
       "  <tbody>\n",
       "    <tr>\n",
       "      <th>0</th>\n",
       "      <td>2017/02/25 10:52:03 PM GMT+4</td>\n",
       "      <td>19</td>\n",
       "      <td>Male</td>\n",
       "      <td>100000.0</td>\n",
       "      <td>Student</td>\n",
       "      <td>Station</td>\n",
       "      <td>2000.0</td>\n",
       "      <td>Several times in a month</td>\n",
       "      <td>Environment</td>\n",
       "      <td>Menu</td>\n",
       "      <td>Capital</td>\n",
       "      <td>Nightlife</td>\n",
       "      <td>Hang outs with friends</td>\n",
       "    </tr>\n",
       "    <tr>\n",
       "      <th>1</th>\n",
       "      <td>2017/02/25 10:53:19 PM GMT+4</td>\n",
       "      <td>19</td>\n",
       "      <td>Female</td>\n",
       "      <td>50000.0</td>\n",
       "      <td>Student</td>\n",
       "      <td>Calumet</td>\n",
       "      <td>2000.0</td>\n",
       "      <td>rarely (once two week/or a month)</td>\n",
       "      <td>Music</td>\n",
       "      <td>Pricing</td>\n",
       "      <td>Capital</td>\n",
       "      <td>Adventure/traveling/exploring</td>\n",
       "      <td>Hang outs with friends</td>\n",
       "    </tr>\n",
       "    <tr>\n",
       "      <th>2</th>\n",
       "      <td>2017/02/25 10:54:05 PM GMT+4</td>\n",
       "      <td>20</td>\n",
       "      <td>Male</td>\n",
       "      <td>100000.0</td>\n",
       "      <td>Student</td>\n",
       "      <td>Liberty</td>\n",
       "      <td>3000.0</td>\n",
       "      <td>rarely (once two week/or a month)</td>\n",
       "      <td>Environment</td>\n",
       "      <td>Music</td>\n",
       "      <td>Capital</td>\n",
       "      <td>Busy(student life, work)</td>\n",
       "      <td>Hang outs with friends</td>\n",
       "    </tr>\n",
       "    <tr>\n",
       "      <th>3</th>\n",
       "      <td>2017/02/25 10:55:09 PM GMT+4</td>\n",
       "      <td>18</td>\n",
       "      <td>Male</td>\n",
       "      <td>0.0</td>\n",
       "      <td>Student</td>\n",
       "      <td>Calumet</td>\n",
       "      <td>3000.0</td>\n",
       "      <td>Several times in a month</td>\n",
       "      <td>Environment</td>\n",
       "      <td>Music</td>\n",
       "      <td>Capital</td>\n",
       "      <td>Art</td>\n",
       "      <td>Hang outs with friends</td>\n",
       "    </tr>\n",
       "    <tr>\n",
       "      <th>4</th>\n",
       "      <td>2017/02/25 10:55:38 PM GMT+4</td>\n",
       "      <td>19</td>\n",
       "      <td>Female</td>\n",
       "      <td>130000.0</td>\n",
       "      <td>Student + working</td>\n",
       "      <td>Liberty</td>\n",
       "      <td>10000.0</td>\n",
       "      <td>rarely (once two week/or a month)</td>\n",
       "      <td>Pricing</td>\n",
       "      <td>Environment</td>\n",
       "      <td>Capital</td>\n",
       "      <td>NaN</td>\n",
       "      <td>Hang outs with friends</td>\n",
       "    </tr>\n",
       "  </tbody>\n",
       "</table>\n",
       "</div>"
      ],
      "text/plain": [
       "                      Timestamp  Age  Gender    Income          Occupation  \\\n",
       "0  2017/02/25 10:52:03 PM GMT+4    19    Male  100000.0            Student   \n",
       "1  2017/02/25 10:53:19 PM GMT+4    19  Female   50000.0            Student   \n",
       "2  2017/02/25 10:54:05 PM GMT+4    20    Male  100000.0            Student   \n",
       "3  2017/02/25 10:55:09 PM GMT+4    18    Male       0.0            Student   \n",
       "4  2017/02/25 10:55:38 PM GMT+4    19  Female  130000.0  Student + working   \n",
       "\n",
       "   Fav_Pub      WTS                               Freq     Prim_Imp  \\\n",
       "0  Station   2000.0           Several times in a month  Environment   \n",
       "1  Calumet   2000.0  rarely (once two week/or a month)        Music   \n",
       "2  Liberty   3000.0  rarely (once two week/or a month)  Environment   \n",
       "3  Calumet   3000.0           Several times in a month  Environment   \n",
       "4  Liberty  10000.0  rarely (once two week/or a month)      Pricing   \n",
       "\n",
       "       Sec_Imp  Stratum                      Lifestyle               Occasions  \n",
       "0         Menu  Capital                      Nightlife  Hang outs with friends  \n",
       "1      Pricing  Capital  Adventure/traveling/exploring  Hang outs with friends  \n",
       "2        Music  Capital       Busy(student life, work)  Hang outs with friends  \n",
       "3        Music  Capital                            Art  Hang outs with friends  \n",
       "4  Environment  Capital                            NaN  Hang outs with friends  "
      ]
     },
     "execution_count": 16,
     "metadata": {},
     "output_type": "execute_result"
    }
   ],
   "source": [
    "# Import the data downloaded from Kaggle\n",
    "pubs = pd.read_csv('armenian_pubs.csv')\n",
    "# Inspect the first 5 rows\n",
    "pubs.head()"
   ]
  },
  {
   "cell_type": "markdown",
   "metadata": {},
   "source": [
    "As we can see, this dataset contains pub-goers' demographic information (e.g., age, gender, income, occupation) as well as their pub-going behaviors (e.g., favorite pub, frequency, factors of primary and secondary importance, etc.). To see whether this sample might be biased, we can check whether the sample demographic were representative of the 2017 Armenian population."
   ]
  },
  {
   "cell_type": "markdown",
   "metadata": {},
   "source": [
    "#### Age"
   ]
  },
  {
   "cell_type": "markdown",
   "metadata": {},
   "source": [
    "Using `pubs['Age']` returns `KeyError`, which may result from white spaces in column names. According to this [Stack Overflow answer](https://stackoverflow.com/questions/21606987/how-can-i-strip-the-whitespace-from-pandas-dataframe-headers), a quick solution is using `str.strip()` to remove empty spaces in each column name and `rename()` to update the names (the `inplace=True` argument allows us to change the original data frame rather than creating a new one).  "
   ]
  },
  {
   "cell_type": "code",
   "execution_count": 23,
   "metadata": {},
   "outputs": [],
   "source": [
    "pubs.rename(columns=lambda x: x.strip(), inplace=True)"
   ]
  },
  {
   "cell_type": "markdown",
   "metadata": {},
   "source": [
    "Let's summarize the age of this sample:"
   ]
  },
  {
   "cell_type": "code",
   "execution_count": 26,
   "metadata": {},
   "outputs": [
    {
     "data": {
      "text/plain": [
       "count    175.000000\n",
       "mean      19.548571\n",
       "std        2.770262\n",
       "min       16.000000\n",
       "25%       18.000000\n",
       "50%       19.000000\n",
       "75%       20.000000\n",
       "max       41.000000\n",
       "Name: Age, dtype: float64"
      ]
     },
     "execution_count": 26,
     "metadata": {},
     "output_type": "execute_result"
    }
   ],
   "source": [
    "pubs['Age'].describe()"
   ]
  },
  {
   "cell_type": "markdown",
   "metadata": {},
   "source": [
    "The median age in this sample was 19 years, which was far younger than the national median 35.1 years (Source: [Armenia Demographics Profile 2018](https://www.indexmundi.com/armenia/demographics_profile.html), estimated in 2017). Since younger people may go to pubs for different reasons than other age groups, this sample is a biased source for answering the question about common reasons why Armenians go to pubs."
   ]
  },
  {
   "cell_type": "markdown",
   "metadata": {},
   "source": [
    "#### Gender"
   ]
  },
  {
   "cell_type": "markdown",
   "metadata": {},
   "source": [
    "Is the male-female gender ratio in this sample representative?"
   ]
  },
  {
   "cell_type": "code",
   "execution_count": 36,
   "metadata": {},
   "outputs": [
    {
     "data": {
      "text/plain": [
       "0.7156862745098039"
      ]
     },
     "execution_count": 36,
     "metadata": {},
     "output_type": "execute_result"
    }
   ],
   "source": [
    "pubs['Gender'].value_counts()['Male']/pubs['Gender'].value_counts()['Female']"
   ]
  },
  {
   "cell_type": "markdown",
   "metadata": {},
   "source": [
    "The national male-female gender ratio in Armenia was 0.94, which was a little higher than that in the sample."
   ]
  },
  {
   "cell_type": "markdown",
   "metadata": {},
   "source": [
    "#### Income"
   ]
  },
  {
   "cell_type": "markdown",
   "metadata": {},
   "source": [
    "Are incomes in this sample representative? (According to historical data on [Online Currency Converter](https://freecurrencyrates.com/en/exchange-rate-history/USD-AMD/2017), the Armenian Dram to USD exchange rate was 485.86 on 2017/02/25.)"
   ]
  },
  {
   "cell_type": "code",
   "execution_count": 38,
   "metadata": {},
   "outputs": [
    {
     "data": {
      "text/plain": [
       "count       0.358128\n",
       "mean      226.809577\n",
       "std       736.019961\n",
       "min         0.000000\n",
       "25%         0.205821\n",
       "50%       113.201334\n",
       "75%       205.820607\n",
       "max      9261.927304\n",
       "Name: Income, dtype: float64"
      ]
     },
     "execution_count": 38,
     "metadata": {},
     "output_type": "execute_result"
    }
   ],
   "source": [
    "pubs['Income'].describe()/485.86 "
   ]
  },
  {
   "cell_type": "markdown",
   "metadata": {},
   "source": [
    "Armenia's household income per capita in 2017 was about 1453.62 USD (source: [CEIC](https://www.ceicdata.com/en/indicator/armenia/annual-household-income-per-capita)), which was much higher than 226.81 USD in the sample."
   ]
  },
  {
   "cell_type": "markdown",
   "metadata": {},
   "source": [
    "#### Occupation"
   ]
  },
  {
   "cell_type": "code",
   "execution_count": 40,
   "metadata": {},
   "outputs": [
    {
     "data": {
      "text/plain": [
       "Student                             0.697143\n",
       "Student + working                   0.228571\n",
       "Working                             0.051429\n",
       "Working                             0.005714\n",
       "army                                0.005714\n",
       "Entrepreneur / Software Engineer    0.005714\n",
       "CEO                                 0.005714\n",
       "Name: Occupation, dtype: float64"
      ]
     },
     "execution_count": 40,
     "metadata": {},
     "output_type": "execute_result"
    }
   ],
   "source": [
    "pubs['Occupation'].value_counts()/len(pubs['Occupation'])"
   ]
  },
  {
   "cell_type": "markdown",
   "metadata": {},
   "source": [
    "Students or working students consisted of nearly 93% of this sample, which obviously wasn't representative of the Armenia occupation."
   ]
  },
  {
   "cell_type": "markdown",
   "metadata": {},
   "source": [
    "#### Summary\n",
    "\n",
    "This dataset is not a random sample of the Armenian population. It's strongly biased towards the students, who were younger and less wealthy compared to the population. In light of this bias, we need to limit the scope to Armenian students (or even students of the American University of Armenia, according to this dataset's [Kaggle description](https://www.kaggle.com/erikhambardzumyan/pubs)) when drawing any conclusions."
   ]
  }
 ],
 "metadata": {
  "kernelspec": {
   "display_name": "Python 3",
   "language": "python",
   "name": "python3"
  },
  "language_info": {
   "codemirror_mode": {
    "name": "ipython",
    "version": 3
   },
   "file_extension": ".py",
   "mimetype": "text/x-python",
   "name": "python",
   "nbconvert_exporter": "python",
   "pygments_lexer": "ipython3",
   "version": "3.7.3"
  }
 },
 "nbformat": 4,
 "nbformat_minor": 4
}
