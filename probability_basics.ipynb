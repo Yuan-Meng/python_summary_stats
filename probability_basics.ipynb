{
 "cells": [
  {
   "cell_type": "markdown",
   "metadata": {},
   "source": [
    "# Basics of Probability "
   ]
  },
  {
   "cell_type": "markdown",
   "metadata": {},
   "source": [
    "## Drill Set 1\n",
    "\n",
    "1. Calculate the probability of flipping a balanced coin four times and getting each pattern: `HTTH`, `HHHH`, and `TTHH`.\n",
    "    \n",
    "   Because the coin is balanced and each flip is independent, the probability of getting each of the three patterns is the same: $\\frac{1}{2}^4 = \\frac{1}{16}$.\n",
    "\n",
    "\n",
    "2. If a list of people has 24 women and 21 men, then the probability of choosing a man from the list is 21/45. What is the probability of not choosing a man?\n",
    "\n",
    "   The probability of not choosing a man is simply $1 - \\frac{21}{45} = \\frac{24}{45} = \\frac{8}{15}$.\n",
    "\n",
    "3. The probability that Bernice will travel by plane sometime in the next year is 10%. The probability of a plane crash at any time is .005%. What is the probability that Bernice will be in a plane crash sometime in the next year?\n",
    "\n",
    "   The probability that Bernie will be in a plane crash sometime next year is $P(\\mathrm{fly, crash}) = P(\\mathrm{fly}) \\times P(\\mathrm{crash|fly}) = 10\\% \\times .005\\% = 5 \\times 10^{-6}$.\n",
    "\n",
    "4. A data scientist wants to study the behavior of users on the company website. Each time a user clicks on a link on the website, there is a 5% chance that the user will be asked to complete a short survey about their behavior on the website. The data scientist uses the survey data to conclude that, on average, users spend 15 minutes surfing the company website before moving on to other things. What is wrong with this conclusion?\n",
    "\n",
    "   The sample is not representative of all users on the company website. While users who are asked to fill out the survey are randomly selected, I feel that most of them won't actually complete it. Those who chose to fill out the survey may differ from a typical user in some aspects. For instance, they may enjoy the company website more than most or they may have usunally more spare time than other people. Because of the potential selection bias, the estimation may not be accurate."
   ]
  },
  {
   "cell_type": "markdown",
   "metadata": {},
   "source": [
    "## Drill Set 2\n",
    "\n",
    "A diagnostic test has a 98% probability of giving a positive result when applied to a person suffering from Thripshaw's Disease, and 10% probability of giving a (false) positive when applied to a non-sufferer. It is estimated that 0.5 % of the population are sufferers. Suppose that the test is now administered to a person whose disease status is unknown. Calculate the probability that the test will:\n",
    "\n",
    "1. Be positive\n",
    "\n",
    "   My first intuition is $0.5\\% \\times 98\\% = 0.49\\%$, which ignored false positives. There are two situations where a person would get a positive test result: A sufferer getting correctly diagnosed and a non-sufferer getting a false positive. So the correct answer is $P(\\mathrm{positive}) = P(\\mathrm{positive|sufferer})\\times P(\\mathrm{sufferer}) + P(\\mathrm{positive|non{\\text -}sufferer})\\times P(\\mathrm{non{\\text -}sufferer}) = 98\\% \\times 0.5\\% + 10\\% \\times (1-0.5\\%) = 10.44\\%.$\n",
    "   \n",
    "2. Correctly diagnose a sufferer of Thripshaw's\n",
    "\n",
    "   Correctly diagnosing a suffer means giving a positive test result to a sufferer, which is 98\\%.\n",
    "\n",
    "3. Correctly identify a non-sufferer of Thripshaw's\n",
    "\n",
    "   Correctly identifying a non-suffer means giving a negative test result to a non-sufferer, which is 90\\%.\n",
    "\n",
    "4. Misclassify the person\n",
    "\n",
    "   There are two types of misclassification: Giving a negative result to a sufferer and a positive result to a non-suffer. That is, $P(\\mathrm{misclassify}) = P(\\mathrm{negative|sufferer})\\times P(\\mathrm{sufferer}) + P(\\mathrm{positive|non{\\text -}sufferer})\\times P(\\mathrm{non{\\text -}sufferer}) = 2\\% \\times 0.5\\% + 10\\% \\times (1-0.5\\%) = 0.0996\\%.$\n",
    "\n",
    "   \n"
   ]
  }
 ],
 "metadata": {
  "kernelspec": {
   "display_name": "Python 3",
   "language": "python",
   "name": "python3"
  },
  "language_info": {
   "codemirror_mode": {
    "name": "ipython",
    "version": 3
   },
   "file_extension": ".py",
   "mimetype": "text/x-python",
   "name": "python",
   "nbconvert_exporter": "python",
   "pygments_lexer": "ipython3",
   "version": "3.7.3"
  }
 },
 "nbformat": 4,
 "nbformat_minor": 4
}
