{
 "cells": [
  {
   "cell_type": "markdown",
   "metadata": {},
   "source": [
    "# The Central Limit Theorem"
   ]
  },
  {
   "cell_type": "code",
   "execution_count": 34,
   "metadata": {},
   "outputs": [],
   "source": [
    "import numpy as np\n",
    "import pandas as pd\n",
    "import scipy\n",
    "from scipy.stats import ttest_ind\n",
    "import matplotlib.pyplot as plt\n",
    "%matplotlib inline"
   ]
  },
  {
   "cell_type": "markdown",
   "metadata": {},
   "source": [
    "## Create populations"
   ]
  },
  {
   "cell_type": "markdown",
   "metadata": {},
   "source": [
    "Two populations are generated from two different binomial distributions. "
   ]
  },
  {
   "cell_type": "code",
   "execution_count": 35,
   "metadata": {},
   "outputs": [],
   "source": [
    "pop1 = np.random.binomial(10, 0.2, 10000)\n",
    "pop2 = np.random.binomial(10, 0.5, 10000)"
   ]
  },
  {
   "cell_type": "markdown",
   "metadata": {},
   "source": [
    "Let's take one sample ($N = 100$) from each population."
   ]
  },
  {
   "cell_type": "code",
   "execution_count": 36,
   "metadata": {},
   "outputs": [
    {
     "name": "stdout",
     "output_type": "stream",
     "text": [
      "1.9 is the mean of the sample from population 1.\n",
      "1.1357816691600549 is the standard deviation of the sample from population 1.\n",
      "5.22 is the mean of the sample from population 2.\n",
      "1.5784802817900512 is the standard deviation of the sample from population 2.\n"
     ]
    }
   ],
   "source": [
    "# Sample with replacement \n",
    "sample1 = np.random.choice(pop1, 100, replace=True)\n",
    "sample2 = np.random.choice(pop2, 100, replace=True)\n",
    "\n",
    "# Print out the mean and the standard deviation of each sample\n",
    "print('{} is the mean of the sample from population 1.'.format(sample1.mean()))\n",
    "print('{} is the standard deviation of the sample from population 1.'.format(sample1.std()))\n",
    "print('{} is the mean of the sample from population 2.'.format(sample2.mean()))\n",
    "print('{} is the standard deviation of the sample from population 2.'.format(sample2.std()))"
   ]
  },
  {
   "cell_type": "markdown",
   "metadata": {},
   "source": [
    "## Tasks"
   ]
  },
  {
   "cell_type": "markdown",
   "metadata": {},
   "source": [
    " 1. Increase the size of your samples from 100 to 1000, then calculate the means and standard deviations for your new samples and create histograms for each.  Repeat this again, decreasing the size of your samples to 20.  What values change, and what remain the same?\n",
    " \n",
    "    I expect to see smaller standard deviations when the size of samples increases and larger standard deviations when it decreases. In both cases, sample means would be roughly the same."
   ]
  },
  {
   "cell_type": "code",
   "execution_count": 37,
   "metadata": {},
   "outputs": [
    {
     "name": "stdout",
     "output_type": "stream",
     "text": [
      "1.913 is the mean of the large sample from population 1.\n",
      "1.3059215137212496 is the standard deviation of the large sample from population 1.\n",
      "4.964 is the mean of the large sample from population 2.\n",
      "1.5743900406189058 is the standard deviation of the large sample from population 2.\n",
      "\n",
      "\n",
      "2.2 is the mean of the small sample from population 1.\n",
      "1.16619037896906 is the standard deviation of the small sample from population 1.\n",
      "5.1 is the mean of the small sample from population 2.\n",
      "1.7 is the standard deviation of the small sample from population 2.\n"
     ]
    }
   ],
   "source": [
    "# Increase N to 1000\n",
    "sample_large1 = np.random.choice(pop1, 1000, replace=True)\n",
    "sample_large2 = np.random.choice(pop2, 1000, replace=True)\n",
    "# Print out the mean and the standard deviation of each sample\n",
    "print('{} is the mean of the large sample from population 1.'.format(sample_large1.mean()))\n",
    "print('{} is the standard deviation of the large sample from population 1.'.format(sample_large1.std()))\n",
    "print('{} is the mean of the large sample from population 2.'.format(sample_large2.mean()))\n",
    "print('{} is the standard deviation of the large sample from population 2.'.format(sample_large2.std()))\n",
    "\n",
    "# Add line break \n",
    "print('\\n')\n",
    "\n",
    "# Decrease N to 20\n",
    "sample_small1 = np.random.choice(pop1, 20, replace=True)\n",
    "sample_small2 = np.random.choice(pop2, 20, replace=True)\n",
    "# Print out the mean and the standard deviation of each sample\n",
    "print('{} is the mean of the small sample from population 1.'.format(sample_small1.mean()))\n",
    "print('{} is the standard deviation of the small sample from population 1.'.format(sample_small1.std()))\n",
    "print('{} is the mean of the small sample from population 2.'.format(sample_small2.mean()))\n",
    "print('{} is the standard deviation of the small sample from population 2.'.format(sample_small2.std()))"
   ]
  },
  {
   "cell_type": "markdown",
   "metadata": {},
   "source": [
    "Neither the means nor the standard deviations seem to be very different compared to the original samples ($N = 100$)."
   ]
  },
  {
   "cell_type": "markdown",
   "metadata": {},
   "source": [
    "2. Change the probability value (`p` in the [NumPy documentation](https://docs.scipy.org/doc/numpy/reference/generated/numpy.random.binomial.html)) for `pop1` to 0.3, then take new samples and compute the t-statistic and p-value. Then change the probability value p for group 1 to 0.4, and do it again.  What changes, and why?\n",
    "\n",
    "   When we change $p$ from 0.2 to 0.3, the difference between the two population becomes smaller. As a result, both the $t$-value and the $p$-value should be smaller. When $p$ further changes from 0.3 to 0.4, the two populations become even closer so the $t$-value and the $p$-value should be even smaller."
   ]
  },
  {
   "cell_type": "code",
   "execution_count": 38,
   "metadata": {},
   "outputs": [
    {
     "name": "stdout",
     "output_type": "stream",
     "text": [
      "The t-value is 11.21849634526823 and the p-value is 6.409144504987356e-23\n",
      "The t-value is 6.237419860875322 and the p-value is 2.6448116447464545e-09\n"
     ]
    }
   ],
   "source": [
    "# Change p to 0.3 in population 1\n",
    "pop3 = np.random.binomial(10, 0.3, 10000)\n",
    "# Sample from the new population\n",
    "sample3 = np.random.choice(pop3, 100, replace=True)\n",
    "# Calculate t- and p-values\n",
    "test1 = ttest_ind(sample2, sample3, equal_var=False)\n",
    "# Show the results\n",
    "print('The t-value is {} and the p-value is {}'.format(test1[0], test1[1]))\n",
    "\n",
    "# Change p to 0.3 in population 1\n",
    "pop4 = np.random.binomial(10, 0.4, 10000)\n",
    "# Sample from the new population\n",
    "sample4 = np.random.choice(pop4, 100, replace=True)\n",
    "# Calculate t- and p-values\n",
    "test2 = ttest_ind(sample2, sample4, equal_var=False)\n",
    "# Show the results\n",
    "print('The t-value is {} and the p-value is {}'.format(test2[0], test2[1]))"
   ]
  },
  {
   "cell_type": "markdown",
   "metadata": {},
   "source": [
    "The results confirmed both of my predictions."
   ]
  },
  {
   "cell_type": "markdown",
   "metadata": {},
   "source": [
    "3. Change the distribution of your populations from binomial to a distribution of your choice. Do the sample mean values still accurately represent the population values?\n",
    "\n",
    "   If we change both populations to Beta distributions, sample means should still represent their population mean. Moreover, according to the central limit theorem, if we take a large number of samples from a population, the sample means will have a normal distribution whose mean is close to the true population mean. This will be true for any distributions, including Beta."
   ]
  },
  {
   "cell_type": "markdown",
   "metadata": {},
   "source": [
    "First, create two populations from two different Beta distributions."
   ]
  },
  {
   "cell_type": "code",
   "execution_count": 40,
   "metadata": {},
   "outputs": [],
   "source": [
    "pop_beta1 = np.random.beta(8, 2, 10000)\n",
    "pop_beta2 = np.random.beta(5, 5, 10000)"
   ]
  },
  {
   "cell_type": "code",
   "execution_count": 42,
   "metadata": {},
   "outputs": [
    {
     "name": "stdout",
     "output_type": "stream",
     "text": [
      "0.8002939665930171\n",
      "0.8045765180396223\n",
      "0.4977934056836968\n",
      "0.5028989898354519\n"
     ]
    }
   ],
   "source": [
    "# Generate one sample from each population\n",
    "sample_beta1 = np.random.choice(pop_beta1, 1000, replace=True)\n",
    "sample_beta2 = np.random.choice(pop_beta2, 1000, replace=True)\n",
    "\n",
    "# Calculate sample and population means \n",
    "print(pop_beta1.mean())\n",
    "print(sample_beta1.mean())\n",
    "print(pop_beta2.mean())\n",
    "print(sample_beta2.mean())"
   ]
  },
  {
   "cell_type": "code",
   "execution_count": null,
   "metadata": {},
   "outputs": [],
   "source": [
    "As can be seen, sample means still accurately represent the population means."
   ]
  }
 ],
 "metadata": {
  "kernelspec": {
   "display_name": "Python 3",
   "language": "python",
   "name": "python3"
  },
  "language_info": {
   "codemirror_mode": {
    "name": "ipython",
    "version": 3
   },
   "file_extension": ".py",
   "mimetype": "text/x-python",
   "name": "python",
   "nbconvert_exporter": "python",
   "pygments_lexer": "ipython3",
   "version": "3.7.3"
  }
 },
 "nbformat": 4,
 "nbformat_minor": 4
}
