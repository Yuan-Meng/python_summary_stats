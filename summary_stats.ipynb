{
 "cells": [
  {
   "cell_type": "markdown",
   "metadata": {},
   "source": [
    "# Summary Statistics"
   ]
  },
  {
   "cell_type": "markdown",
   "metadata": {},
   "source": [
    "1. Greg was 14, Marcia was 12, Peter was 11, Jan was 10, Bobby was 8, and Cindy was 6 when they started playing the Brady kids on The Brady Bunch. Cousin Oliver was 8 years old when he joined the show. What are the mean, median, and mode of the kids' ages when they first appeared on the show? What are the variance, standard deviation, and standard error?"
   ]
  },
  {
   "cell_type": "markdown",
   "metadata": {},
   "source": [
    "  Let $x_i$ be each child's age when they first appeared on the show and $N$ the number of children. \n",
    "\n",
    "1. The mean is $\\frac{\\displaystyle{\\sum_{i=1}^{N}} x_i}{N} = \\frac{14+12+11+10+8+6+8}{7} = 9.86$ years. \n",
    "2. From young to old, the 7 children appeared on the show at age 6, 8, 8, 10, 11, 12, 14. The median is 10 years.\n",
    "3. Since 8 appeared twice and all the other ages appeared only twice, the mode is 8 years.\n",
    "\n",
    "We can check the above results in Python."
   ]
  },
  {
   "cell_type": "code",
   "execution_count": 4,
   "metadata": {},
   "outputs": [],
   "source": [
    "# Load libraries\n",
    "import numpy as np\n",
    "import pandas as pd"
   ]
  },
  {
   "cell_type": "code",
   "execution_count": 57,
   "metadata": {},
   "outputs": [
    {
     "name": "stdout",
     "output_type": "stream",
     "text": [
      "9.857142857142858\n",
      "10.0\n",
      "[8]\n"
     ]
    }
   ],
   "source": [
    "# Create a data frame with children's names and ages\n",
    "df = pd.DataFrame()\n",
    "df['names'] = ['Greg', 'Marcia', 'Peter', 'Jan', 'Bobby', 'Cindy', 'Oliver']\n",
    "df['age'] = [14, 12, 11, 10, 8, 6, 8]\n",
    "\n",
    "# Mean\n",
    "print(np.mean(df['age']))\n",
    "# Median\n",
    "print(np.median(df['age']))\n",
    "# Mode \n",
    "# Write a custom function to handle multiple modes\n",
    "def modes(data):\n",
    "    # count the number of each unique age\n",
    "    frequency = {}\n",
    "    for d in data:\n",
    "        if d in frequency:\n",
    "            frequency[d] += 1\n",
    "        else:\n",
    "            frequency[d] = 1\n",
    "    return [key for key in frequency if frequency[key] == max(frequency.values()) and frequency[key] > min(frequency.values())]\n",
    "\n",
    "print(modes(df['age']))"
   ]
  },
  {
   "cell_type": "markdown",
   "metadata": {},
   "source": [
    "All results are confirmed."
   ]
  },
  {
   "cell_type": "markdown",
   "metadata": {},
   "source": [
    "2. Using these estimates, if you had to choose only one estimate of central tendency and one estimate of variance to describe the data, which would you pick and why?"
   ]
  },
  {
   "cell_type": "markdown",
   "metadata": {},
   "source": [
    "I will use the mean to describe the central tendency because it has richer [mathematical properties](https://stats.stackexchange.com/questions/7307/mean-and-median-properties) than both the median and the mode. Morever, there are no extreme values in our data to distort the mean so it's safe to use it. To describe the variance of the age data, I would choose the standard deviation because the population is already known so we can measure its variance ($\\frac{\\sum(x_i - \\mu)^2}{N}$, $\\mu$ is the mean) directly.     "
   ]
  },
  {
   "cell_type": "markdown",
   "metadata": {},
   "source": [
    "3. Next, Cindy has a birthday. Update your estimates- what changed, and what didn't?"
   ]
  },
  {
   "cell_type": "markdown",
   "metadata": {},
   "source": [
    "After Cindy turned 7, the mean changes to $\\frac{14+12+11+10+8+7+8}{7} = 10$ years. However, the median stays 10 years and the mode is still 8 years.\n",
    "\n",
    "Let's again confirm the results using Python."
   ]
  },
  {
   "cell_type": "code",
   "execution_count": 56,
   "metadata": {},
   "outputs": [
    {
     "name": "stdout",
     "output_type": "stream",
     "text": [
      "10.0\n",
      "10.0\n",
      "[8]\n"
     ]
    }
   ],
   "source": [
    "# Update Cindy's age to 7\n",
    "df.loc[5,'age'] = 7\n",
    "\n",
    "# Mean\n",
    "print(np.mean(df['age']))\n",
    "# Median\n",
    "print(np.median(df['age']))\n",
    "# Mode\n",
    "print(modes(df['age']))"
   ]
  },
  {
   "cell_type": "markdown",
   "metadata": {},
   "source": [
    "Again, all results are confirmed. "
   ]
  },
  {
   "cell_type": "markdown",
   "metadata": {},
   "source": [
    "4. Nobody likes Cousin Oliver. Maybe the network should have used an even younger actor. Replace Cousin Oliver with 1-year-old Jessica, then recalculate again.  Does this change your choice of central tendency or variance estimation methods?"
   ]
  },
  {
   "cell_type": "markdown",
   "metadata": {},
   "source": [
    "After replacing Oliver with Jessica, the new results are:\n",
    "\n",
    "1. The mean is $\\frac{\\displaystyle{\\sum_{i=1}^{N}} x_i}{N} = \\frac{14+12+11+10+8+6+1}{7} = 8.86$ years. \n",
    "2. From young to old, the 7 children appeared on the show at age 1, 8, 8, 10, 11, 12, 14. The median is still 10 years.\n",
    "3. Since 8 appeared twice and all the other ages appeared only twice, the mode is still 8 years.\n",
    "\n",
    "I still use the standard deviation to describe the variance. However, it's now more appropriate to use the median to describe the central tendency since the mean is strongly influenced by Jessica's young age. Let's confirm the results using Python."
   ]
  },
  {
   "cell_type": "code",
   "execution_count": 58,
   "metadata": {},
   "outputs": [
    {
     "name": "stdout",
     "output_type": "stream",
     "text": [
      "8.857142857142858\n",
      "10.0\n",
      "[]\n"
     ]
    }
   ],
   "source": [
    "# Replace Oliver with Jessica\n",
    "df.loc[6:6,'names':'age']='Jessica',1\n",
    "\n",
    "# Mean\n",
    "print(np.mean(df['age']))\n",
    "# Median\n",
    "print(np.median(df['age']))\n",
    "# Mode\n",
    "print(modes(df['age']))"
   ]
  },
  {
   "cell_type": "markdown",
   "metadata": {},
   "source": [
    "Results are confirmed."
   ]
  },
  {
   "cell_type": "markdown",
   "metadata": {},
   "source": [
    "5. On the 50th anniversary of The Brady Bunch, four different magazines asked their readers whether they were fans of the show.  The answers were:\n",
    "    TV Guide            20% fans\n",
    "    Entertainment Weekly    23% fans\n",
    "    Pop Culture Today       17% fans\n",
    "    SciPhi Phanatic     5% fans\n",
    "\n",
    "  Based on these numbers, what percentage of adult Americans would you estimate were Brady Bunch fans on the 50th anniversary of the show?"
   ]
  },
  {
   "cell_type": "markdown",
   "metadata": {},
   "source": [
    "My best guess is 16.25\\%, which is the mean of the four polls ($\\frac{20\\% + 23\\% + 17\\% + 5\\%}{4}$). "
   ]
  },
  {
   "cell_type": "code",
   "execution_count": 63,
   "metadata": {},
   "outputs": [
    {
     "name": "stdout",
     "output_type": "stream",
     "text": [
      "16.25% of adult Americans were Brandy Bunch fans\n"
     ]
    }
   ],
   "source": [
    "# Create a data frame with names of polls and the results\n",
    "fans = pd.DataFrame()\n",
    "fans['poll'] = ['TV Guide', 'Entertainment Weekly', 'Pop Culture Today', 'SciPhi Phanatic']\n",
    "fans['result'] = [20, 23, 17, 5]\n",
    "\n",
    "# Mean\n",
    "print('{}% of adult Americans were Brandy Bunch fans'.format(np.mean(fans['result'])))"
   ]
  },
  {
   "cell_type": "markdown",
   "metadata": {},
   "source": [
    "The guess was confirmed."
   ]
  }
 ],
 "metadata": {
  "kernelspec": {
   "display_name": "Python 3",
   "language": "python",
   "name": "python3"
  },
  "language_info": {
   "codemirror_mode": {
    "name": "ipython",
    "version": 3
   },
   "file_extension": ".py",
   "mimetype": "text/x-python",
   "name": "python",
   "nbconvert_exporter": "python",
   "pygments_lexer": "ipython3",
   "version": "3.7.3"
  }
 },
 "nbformat": 4,
 "nbformat_minor": 2
}
