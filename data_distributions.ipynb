{
 "cells": [
  {
   "cell_type": "markdown",
   "metadata": {},
   "source": [
    "# Data Distributions"
   ]
  },
  {
   "cell_type": "markdown",
   "metadata": {},
   "source": [
    "# Drill 1"
   ]
  },
  {
   "cell_type": "markdown",
   "metadata": {},
   "source": [
    "Let's generate 100 samples from six probability distrubutions chosen from the `numpy.rand` [document](https://docs.scipy.org/doc/numpy-1.15.0/reference/routines.random.html) and use histograms to visualize these samples."
   ]
  },
  {
   "cell_type": "code",
   "execution_count": 4,
   "metadata": {},
   "outputs": [],
   "source": [
    "import numpy as np\n",
    "import pandas as pd\n",
    "import matplotlib.pyplot as plt\n",
    "%matplotlib inline"
   ]
  },
  {
   "cell_type": "markdown",
   "metadata": {},
   "source": [
    "## 1. The Zipf distribution\n",
    "The probability density function is $p(x) = \\frac{x^{-a}}{\\zeta(a)}$, where $\\zeta$ is the Riemann Zeta function."
   ]
  },
  {
   "cell_type": "markdown",
   "metadata": {},
   "source": [
    "### Generate a random variable"
   ]
  },
  {
   "cell_type": "code",
   "execution_count": 9,
   "metadata": {},
   "outputs": [],
   "source": [
    "sample_zipf = np.random.zipf(2., 100)"
   ]
  },
  {
   "cell_type": "markdown",
   "metadata": {},
   "source": [
    "### Visualize the variable"
   ]
  },
  {
   "cell_type": "code",
   "execution_count": 19,
   "metadata": {},
   "outputs": [
    {
     "data": {
      "text/plain": [
       "<matplotlib.lines.Line2D at 0x11eba9668>"
      ]
     },
     "execution_count": 19,
     "metadata": {},
     "output_type": "execute_result"
    },
    {
     "data": {
      "image/png": "[encoded data removed]",
      "text/plain": [
       "<Figure size 432x288 with 1 Axes>"
      ]
     },
     "metadata": {
      "needs_background": "light"
     },
     "output_type": "display_data"
    }
   ],
   "source": [
    "# Create a histogram\n",
    "plt.hist(sample_zipf)\n",
    "\n",
    "# Add mean\n",
    "plt.axvline(sample_zipf.mean(), color='b', linestyle='solid', linewidth=2)\n",
    "\n",
    "# Add standard deviation\n",
    "plt.axvline(sample_zipf.mean() + sample_zipf.std() , color='b', linestyle='dashed', linewidth=2)\n",
    "plt.axvline(sample_zipf.mean() - sample_zipf.std() , color='b', linestyle='dashed', linewidth=2)"
   ]
  },
  {
   "cell_type": "markdown",
   "metadata": {},
   "source": [
    "Judging from the sample, the Zipf distrubution is right skewed. Because both the mean and the variance are heavily influenced by extreme values, they cannot provide a useful summary of the Zipf distribution. The median and the interquartile range would be more appropriate in this case. "
   ]
  },
  {
   "cell_type": "markdown",
   "metadata": {},
   "source": [
    "## 2. The logistic distribution\n",
    "The probability density function is $P(x) = \\frac{e^{-(x-\\mu)/s}}{s(1+e^{-(x-\\mu)/s})^2}$, where $\\mu$ = location and $s$ = scale."
   ]
  },
  {
   "cell_type": "markdown",
   "metadata": {},
   "source": [
    "### Generate a random variable"
   ]
  },
  {
   "cell_type": "code",
   "execution_count": 22,
   "metadata": {},
   "outputs": [],
   "source": [
    "sample_logistic = np.random.logistic(10, 1, 100)"
   ]
  },
  {
   "cell_type": "markdown",
   "metadata": {},
   "source": [
    "### Visualize the variable"
   ]
  },
  {
   "cell_type": "code",
   "execution_count": 23,
   "metadata": {},
   "outputs": [
    {
     "data": {
      "text/plain": [
       "<matplotlib.lines.Line2D at 0x12057c2e8>"
      ]
     },
     "execution_count": 23,
     "metadata": {},
     "output_type": "execute_result"
    },
    {
     "data": {
      "image/png": "[encoded data removed]",
      "text/plain": [
       "<Figure size 432x288 with 1 Axes>"
      ]
     },
     "metadata": {
      "needs_background": "light"
     },
     "output_type": "display_data"
    }
   ],
   "source": [
    "# Create a histogram\n",
    "plt.hist(sample_logistic)\n",
    "\n",
    "# Add mean\n",
    "plt.axvline(sample_logistic.mean(), color='b', linestyle='solid', linewidth=2)\n",
    "\n",
    "# Add standard deviation\n",
    "plt.axvline(sample_logistic.mean() + sample_logistic.std() , color='b', linestyle='dashed', linewidth=2)\n",
    "plt.axvline(sample_logistic.mean() - sample_logistic.std() , color='b', linestyle='dashed', linewidth=2)"
   ]
  },
  {
   "cell_type": "markdown",
   "metadata": {},
   "source": [
    "The logistic distribution looks mostly symmetrical. The mean and the variance could potentially provide a useful summary of this distribution."
   ]
  },
  {
   "cell_type": "markdown",
   "metadata": {},
   "source": [
    "## 3. The exponential distribution\n",
    "The probability density function is $f(x; \\frac{1}{\\beta}) = \\frac{1}{\\beta} \\exp(-\\frac{x}{\\beta})$, where $x>0$ and $\\beta$ is the scale parameter."
   ]
  },
  {
   "cell_type": "markdown",
   "metadata": {},
   "source": [
    "### Generate a random variable"
   ]
  },
  {
   "cell_type": "code",
   "execution_count": 25,
   "metadata": {},
   "outputs": [],
   "source": [
    "sample_expo = np.random.exponential(2, 100)"
   ]
  },
  {
   "cell_type": "markdown",
   "metadata": {},
   "source": [
    "### Visualize the variable"
   ]
  },
  {
   "cell_type": "code",
   "execution_count": 26,
   "metadata": {},
   "outputs": [
    {
     "data": {
      "text/plain": [
       "<matplotlib.lines.Line2D at 0x120659f60>"
      ]
     },
     "execution_count": 26,
     "metadata": {},
     "output_type": "execute_result"
    },
    {
     "data": {
      "image/png": "[encoded data removed]",
      "text/plain": [
       "<Figure size 432x288 with 1 Axes>"
      ]
     },
     "metadata": {
      "needs_background": "light"
     },
     "output_type": "display_data"
    }
   ],
   "source": [
    "# Create a histogram\n",
    "plt.hist(sample_expo)\n",
    "\n",
    "# Add mean\n",
    "plt.axvline(sample_expo.mean(), color='b', linestyle='solid', linewidth=2)\n",
    "\n",
    "# Add standard deviation\n",
    "plt.axvline(sample_expo.mean() + sample_expo.std() , color='b', linestyle='dashed', linewidth=2)\n",
    "plt.axvline(sample_expo.mean() - sample_expo.std() , color='b', linestyle='dashed', linewidth=2)"
   ]
  },
  {
   "cell_type": "markdown",
   "metadata": {},
   "source": [
    "Like the Zipf distribution, the exponential distribution is also right skewed. Similary, the median and the interquantile range make more sense than the mean and the variance here."
   ]
  },
  {
   "cell_type": "markdown",
   "metadata": {},
   "source": [
    "## 4. The uniform distribution\n",
    "The probability density function is $p(x) = \\frac{1}{b - a}$ anywhere within the interval $[a, b)$."
   ]
  },
  {
   "cell_type": "markdown",
   "metadata": {},
   "source": [
    "### Generate a random variable"
   ]
  },
  {
   "cell_type": "code",
   "execution_count": 36,
   "metadata": {},
   "outputs": [],
   "source": [
    "sample_uniform = np.random.uniform(0, 1, 100)"
   ]
  },
  {
   "cell_type": "markdown",
   "metadata": {},
   "source": [
    "### Visualize the variable"
   ]
  },
  {
   "cell_type": "code",
   "execution_count": 37,
   "metadata": {},
   "outputs": [
    {
     "data": {
      "text/plain": [
       "<matplotlib.lines.Line2D at 0x120bc1c50>"
      ]
     },
     "execution_count": 37,
     "metadata": {},
     "output_type": "execute_result"
    },
    {
     "data": {
      "image/png": "[encoded data removed]",
      "text/plain": [
       "<Figure size 432x288 with 1 Axes>"
      ]
     },
     "metadata": {
      "needs_background": "light"
     },
     "output_type": "display_data"
    }
   ],
   "source": [
    "# Create a histogram\n",
    "plt.hist(sample_uniform)\n",
    "\n",
    "# Add mean\n",
    "plt.axvline(sample_uniform.mean(), color='b', linestyle='solid', linewidth=2)\n",
    "\n",
    "# Add standard deviation\n",
    "plt.axvline(sample_uniform.mean() + sample_uniform.std() , color='b', linestyle='dashed', linewidth=2)\n",
    "plt.axvline(sample_uniform.mean() - sample_uniform.std() , color='b', linestyle='dashed', linewidth=2)"
   ]
  },
  {
   "cell_type": "markdown",
   "metadata": {},
   "source": [
    "The uniform distribution is also symmetrical, so the mean and the variance could provide a useful summary."
   ]
  },
  {
   "cell_type": "markdown",
   "metadata": {},
   "source": [
    "## 5. The Beta distribution\n",
    "The probability distribution function is $f(x; a,b) = \\frac{1}{B(\\alpha, \\beta)} x^{\\alpha - 1} (1 - x)^{\\beta - 1}$, where the normalization, $B$, is the beta function, $B(\\alpha, \\beta) = \\int_0^1 t^{\\alpha - 1} (1 - t)^{\\beta - 1} dt$."
   ]
  },
  {
   "cell_type": "markdown",
   "metadata": {},
   "source": [
    "### Generate a random variable"
   ]
  },
  {
   "cell_type": "code",
   "execution_count": 29,
   "metadata": {},
   "outputs": [],
   "source": [
    "sample_beta = np.random.beta(10, 5, 100)"
   ]
  },
  {
   "cell_type": "markdown",
   "metadata": {},
   "source": [
    "### Visualize the variable"
   ]
  },
  {
   "cell_type": "code",
   "execution_count": 31,
   "metadata": {},
   "outputs": [
    {
     "data": {
      "text/plain": [
       "<matplotlib.lines.Line2D at 0x1209e26a0>"
      ]
     },
     "execution_count": 31,
     "metadata": {},
     "output_type": "execute_result"
    },
    {
     "data": {
      "image/png": "[encoded data removed]",
      "text/plain": [
       "<Figure size 432x288 with 1 Axes>"
      ]
     },
     "metadata": {
      "needs_background": "light"
     },
     "output_type": "display_data"
    }
   ],
   "source": [
    "# Create a histogram\n",
    "plt.hist(sample_beta)\n",
    "\n",
    "# Add mean\n",
    "plt.axvline(sample_beta.mean(), color='b', linestyle='solid', linewidth=2)\n",
    "\n",
    "# Add standard deviation\n",
    "plt.axvline(sample_beta.mean() + sample_beta.std() , color='b', linestyle='dashed', linewidth=2)\n",
    "plt.axvline(sample_beta.mean() - sample_beta.std() , color='b', linestyle='dashed', linewidth=2)"
   ]
  },
  {
   "cell_type": "markdown",
   "metadata": {},
   "source": [
    "Unless $\\alpha = \\beta$, the Beta distribution is either left skewed or right skewed, so again the median and the interquantile range are more useful than the mean and the variance."
   ]
  },
  {
   "cell_type": "markdown",
   "metadata": {},
   "source": [
    "## 6. The Gumbel distribution\n",
    "The probability density is $p(x) = \\frac{e^{-(x - \\mu)/ \\beta}}{\\beta} e^{ -e^{-(x - \\mu)/ \\beta}}$, where $\\mu$ is the mode, a location parameter, and $\\beta$ is the scale parameter."
   ]
  },
  {
   "cell_type": "markdown",
   "metadata": {},
   "source": [
    "### Generate a random variable"
   ]
  },
  {
   "cell_type": "code",
   "execution_count": 40,
   "metadata": {},
   "outputs": [],
   "source": [
    "sample_gumbel = np.random.gumbel(0, 0.1, 100)"
   ]
  },
  {
   "cell_type": "markdown",
   "metadata": {},
   "source": [
    "### Visualize the variable"
   ]
  },
  {
   "cell_type": "code",
   "execution_count": 39,
   "metadata": {},
   "outputs": [
    {
     "data": {
      "text/plain": [
       "<matplotlib.lines.Line2D at 0x120cb0c18>"
      ]
     },
     "execution_count": 39,
     "metadata": {},
     "output_type": "execute_result"
    },
    {
     "data": {
      "image/png": "[encoded data removed]",
      "text/plain": [
       "<Figure size 432x288 with 1 Axes>"
      ]
     },
     "metadata": {
      "needs_background": "light"
     },
     "output_type": "display_data"
    }
   ],
   "source": [
    "# Create a histogram\n",
    "plt.hist(sample_gumbel)\n",
    "\n",
    "# Add mean\n",
    "plt.axvline(sample_gumbel.mean(), color='b', linestyle='solid', linewidth=2)\n",
    "\n",
    "# Add standard deviation\n",
    "plt.axvline(sample_gumbel.mean() + sample_gumbel.std() , color='b', linestyle='dashed', linewidth=2)\n",
    "plt.axvline(sample_gumbel.mean() - sample_gumbel.std() , color='b', linestyle='dashed', linewidth=2)"
   ]
  },
  {
   "cell_type": "markdown",
   "metadata": {},
   "source": [
    "The Gumbel distribution seems left skewed, so the median and the interquantile range may be more useful than the mean and the variance."
   ]
  },
  {
   "cell_type": "markdown",
   "metadata": {},
   "source": [
    "## Summary\n",
    "For a distribution to be usefully described by the mean and the variance, it has to be symmetrical. This is because the mean is influenced by extreme values so it doesn't summarize left or right skewed distributions very well. Since variance is defined on top of the mean, we should not use variance when we cannot use the mean. By contrast, the median is not strongly influenced by extreme values and therefore better able to describe skewed distributions. For the same reason, the interquantile quantile range is a better measure of \"spreading\" in these situations."
   ]
  },
  {
   "cell_type": "markdown",
   "metadata": {},
   "source": [
    "# Drill 2"
   ]
  },
  {
   "cell_type": "markdown",
   "metadata": {},
   "source": [
    "1) Generate two normally-distributed variables, one with a mean of 5 and standard deviation of 0.5, and the other with a mean of 10 and standard deviation of 1.\n",
    "Add them together to create a third variable."
   ]
  },
  {
   "cell_type": "code",
   "execution_count": 41,
   "metadata": {},
   "outputs": [],
   "source": [
    "# Let's generate 1000 samples from each distribution\n",
    "normal1 = np.random.normal(5, 0.5, 1000)\n",
    "normal2 = np.random.normal(10, 1, 1000)\n",
    "\n",
    "# Add the two together to create a new variable \n",
    "normal_sum = normal1 + normal2"
   ]
  },
  {
   "cell_type": "markdown",
   "metadata": {},
   "source": [
    "2) Graph the third variable using a histogram and 3) compute the mean and standard deviation and plot them as vertical lines on the histogram."
   ]
  },
  {
   "cell_type": "code",
   "execution_count": 44,
   "metadata": {},
   "outputs": [
    {
     "data": {
      "text/plain": [
       "<matplotlib.lines.Line2D at 0x120f70b70>"
      ]
     },
     "execution_count": 44,
     "metadata": {},
     "output_type": "execute_result"
    },
    {
     "data": {
      "image/png": "[encoded data removed]",
      "text/plain": [
       "<Figure size 432x288 with 1 Axes>"
      ]
     },
     "metadata": {
      "needs_background": "light"
     },
     "output_type": "display_data"
    }
   ],
   "source": [
    "# Graph the new variable\n",
    "plt.hist(normal_sum)\n",
    "\n",
    "# Add the mean to the graph\n",
    "plt.axvline(normal_sum.mean(), color='b', linestyle='solid', linewidth=2)\n",
    "\n",
    "# Add the standard deviation\n",
    "plt.axvline(normal_sum.mean() + normal_sum.std(), color='b', linestyle='dashed', linewidth=2)\n",
    "plt.axvline(normal_sum.mean() - normal_sum.std(), color='b', linestyle='dashed', linewidth=2)"
   ]
  },
  {
   "cell_type": "markdown",
   "metadata": {},
   "source": [
    "4. Evaluate the descriptive statistics against the data."
   ]
  },
  {
   "cell_type": "code",
   "execution_count": 49,
   "metadata": {},
   "outputs": [
    {
     "data": {
      "text/plain": [
       "count    1000.000000\n",
       "mean       15.012885\n",
       "std         1.091307\n",
       "min        11.190263\n",
       "25%        14.303331\n",
       "50%        15.030786\n",
       "75%        15.777688\n",
       "max        18.426405\n",
       "dtype: float64"
      ]
     },
     "execution_count": 49,
     "metadata": {},
     "output_type": "execute_result"
    }
   ],
   "source": [
    "# Convert values of the new variable into a Pandas series in order to run quick summary stats\n",
    "df = pd.Series(normal_sum)\n",
    "\n",
    "# Show the summary statistics \n",
    "df.describe()"
   ]
  },
  {
   "cell_type": "markdown",
   "metadata": {},
   "source": [
    "As can be seen from the graph above, the mean of the new random variable is 15 and the standard deviation is a little over 1. The summary statistics confirmed these observations. "
   ]
  },
  {
   "cell_type": "code",
   "execution_count": null,
   "metadata": {},
   "outputs": [],
   "source": []
  }
 ],
 "metadata": {
  "kernelspec": {
   "display_name": "Python 3",
   "language": "python",
   "name": "python3"
  },
  "language_info": {
   "codemirror_mode": {
    "name": "ipython",
    "version": 3
   },
   "file_extension": ".py",
   "mimetype": "text/x-python",
   "name": "python",
   "nbconvert_exporter": "python",
   "pygments_lexer": "ipython3",
   "version": "3.7.3"
  }
 },
 "nbformat": 4,
 "nbformat_minor": 4
}
